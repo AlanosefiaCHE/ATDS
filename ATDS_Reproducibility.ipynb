{
 "cells": [
  {
   "cell_type": "markdown",
   "metadata": {},
   "source": [
    "# Running reproducable code\n",
    "This Notebook guides you in creating code that reproduces the same results over and over.\n",
    "Additionally, we are going to connect to our RestDB data."
   ]
  },
  {
   "cell_type": "code",
   "execution_count": 1,
   "metadata": {
    "tags": []
   },
   "outputs": [],
   "source": [
    "import requests\n",
    "import pandas as pd"
   ]
  },
  {
   "cell_type": "markdown",
   "metadata": {},
   "source": [
    "* Enter your URL for the data set from RestDB below.\n",
    "* Additionaly, enter your API-key."
   ]
  },
  {
   "cell_type": "code",
   "execution_count": 2,
   "metadata": {
    "tags": []
   },
   "outputs": [],
   "source": [
    "restUrl = 'https://atdssensor-f1a6.restdb.io/rest/ttnraw'\n",
    "api_key = '65240dc6688854416d0c03d3'"
   ]
  },
  {
   "cell_type": "markdown",
   "metadata": {},
   "source": [
    "If your credentials above are correct and you execute the following cell, it should print:<br />\n",
    "**<Response [200]>**"
   ]
  },
  {
   "cell_type": "code",
   "execution_count": 3,
   "metadata": {
    "tags": []
   },
   "outputs": [
    {
     "name": "stdout",
     "output_type": "stream",
     "text": [
      "<Response [200]>\n"
     ]
    }
   ],
   "source": [
    "response = requests.get(restUrl, headers = { 'x-apikey': api_key })\n",
    "print(response)"
   ]
  },
  {
   "cell_type": "markdown",
   "metadata": {},
   "source": [
    "Now we are going to get our responses in a JSON format (we print only the first and second record)."
   ]
  },
  {
   "cell_type": "code",
   "execution_count": 4,
   "metadata": {
    "tags": []
   },
   "outputs": [
    {
     "name": "stdout",
     "output_type": "stream",
     "text": [
      "[{'_id': '6546bdbd8b0f053800000006', 'end_device_ids': {'device_id': 'eui-a81758fffe0600fb', 'application_ids': {'application_id': '20230904-amo-id1'}, 'dev_eui': 'A81758FFFE0600FB', 'join_eui': '0000000000000004', 'dev_addr': '260BB765'}, 'correlation_ids': ['gs:uplink:01HEE5AANVKB1ENZGPXHK5KW20'], 'received_at': '2023-11-04T21:55:09.323972827Z', 'uplink_message': {'session_key_id': 'AYrQQaTUQCvZXl5oaGOvwQ==', 'f_port': 5, 'f_cnt': 38045, 'frm_payload': 'AQC3AjIHDh4=', 'decoded_payload': {'humidity': 50, 'temperature': 18.3, 'vdd': 3614}, 'rx_metadata': [{'gateway_ids': {'gateway_id': 'eui-1dee1184df05cb11', 'eui': 'ACC2DA6FF56AD33A'}, 'timestamp': 833900539, 'rssi': -113, 'channel_rssi': -113, 'snr': -1, 'location': {'latitude': 51.68637288608396, 'longitude': 5.285550355911256, 'altitude': 20, 'source': 'SOURCE_REGISTRY'}, 'uplink_token': 'CiIKIAoUZXVpLTFkZWUxMTg0ZGYwNWNiMTESCKzC2m/1atM6EPuf0Y0DGgsIvfuaqgYQ7/v0NiD42OHCoqjLAQ==', 'received_at': '2023-11-04T21:55:09.104971476Z'}, {'gateway_ids': {'gateway_id': 'qout4g0060', 'eui': 'A84041FFFF211C94'}, 'time': '2023-11-04T21:55:27.315Z', 'timestamp': 1103203891, 'rssi': -102, 'channel_rssi': -102, 'snr': 6.8, 'uplink_token': 'ChgKFgoKcW91dDRnMDA2MBIIqEBB//8hHJQQs5yGjgQaCwi9+5qqBhCj++VLILjuzeCNoqYBKgwIz/uaqgYQwImalgE=', 'gps_time': '2023-11-04T21:55:27.315Z', 'received_at': '2023-11-04T21:55:09.124769704Z'}, {'gateway_ids': {'gateway_id': 'skylab-has-solar-5223', 'eui': '24E124FFFEF2487C'}, 'time': '2023-11-04T21:55:09.105Z', 'timestamp': 2897114568, 'rssi': -90, 'channel_rssi': -90, 'snr': 13.8, 'frequency_offset': '14640', 'location': {'latitude': 51.68711, 'longitude': 5.28544, 'altitude': 39, 'source': 'SOURCE_REGISTRY'}, 'uplink_token': 'CiMKIQoVc2t5bGFiLWhhcy1zb2xhci01MjIzEggk4ST//vJIfBDI67nlChoLCL37mqoGEJXa4FQgwKrwy6j7cCoLCL37mqoGEMDYiDI=', 'gps_time': '2023-11-04T21:55:09.105Z', 'received_at': '2023-11-04T21:55:09.119769926Z'}, {'gateway_ids': {'gateway_id': 'gateway-atd'}, 'time': '2023-11-04T21:55:09Z', 'timestamp': 945095571, 'rssi': -117, 'channel_rssi': -117, 'snr': -3, 'location': {'latitude': 51.687752610051945, 'longitude': 5.28666830059592, 'altitude': 5, 'source': 'SOURCE_REGISTRY'}, 'uplink_token': 'Cg8KDQoLZ2F0ZXdheS1hdGQQk4fUwgMaCwi9+5qqBhCixYFmILjs1+DAmAE=', 'received_at': '2023-11-04T21:55:09.213934754Z'}], 'settings': {'data_rate': {'lora': {'bandwidth': 125000, 'spreading_factor': 7, 'coding_rate': '4/5'}}, 'frequency': '868100000', 'timestamp': 833900539}, 'received_at': '2023-11-04T21:55:09.116037221Z', 'consumed_airtime': '0.056576s', 'version_ids': {'brand_id': 'elsys', 'model_id': 'ers-lite', 'hardware_version': '1.0', 'firmware_version': '1.0', 'band_id': 'EU_863_870'}, 'network_ids': {'net_id': '000013', 'ns_id': 'EC656E0000000181', 'tenant_id': 'ttn', 'cluster_id': 'eu1', 'cluster_address': 'eu1.cloud.thethings.network'}}}, {'_id': '653ebe054e059d200000000c', 'end_device_ids': {'device_id': 'eui-a81758fffe0600fb', 'application_ids': {'application_id': '20230904-amo-id1'}, 'dev_eui': 'A81758FFFE0600FB', 'join_eui': '0000000000000004', 'dev_addr': '260BB765'}, 'correlation_ids': ['gs:uplink:01HDYHCGZ6AX4JCKFX4RRXGGQ6'], 'received_at': '2023-10-29T20:18:13.299448415Z', 'uplink_message': {'session_key_id': 'AYrQQaTUQCvZXl5oaGOvwQ==', 'f_port': 5, 'f_cnt': 32220, 'frm_payload': 'AQC4Ai8HDiM=', 'decoded_payload': {'humidity': 47, 'temperature': 18.4, 'vdd': 3619}, 'rx_metadata': [{'gateway_ids': {'gateway_id': 'eui-1dee1184df05cb11', 'eui': 'ACC2DA6FF56AD33A'}, 'timestamp': 604254012, 'rssi': -113, 'channel_rssi': -113, 'snr': -4, 'location': {'latitude': 51.68637288608396, 'longitude': 5.285550355911256, 'altitude': 20, 'source': 'SOURCE_REGISTRY'}, 'uplink_token': 'CiIKIAoUZXVpLTFkZWUxMTg0ZGYwNWNiMTESCKzC2m/1atM6ELzekKACGgsIhfz6qQYQwdqaLSDghOKCy49U', 'channel_index': 7, 'received_at': '2023-10-29T20:18:13.094809409Z'}, {'gateway_ids': {'gateway_id': 'qout4g0060', 'eui': 'A84041FFFF211C94'}, 'time': '2023-10-29T20:18:38.681Z', 'timestamp': 873561988, 'rssi': -95, 'channel_rssi': -95, 'snr': 9.2, 'uplink_token': 'ChgKFgoKcW91dDRnMDA2MBIIqEBB//8hHJQQhP/FoAMaCwiF/PqpBhD33rA1IKC36KK2iS8qDAie/PqpBhDA+NzEAg==', 'channel_index': 7, 'gps_time': '2023-10-29T20:18:38.681Z', 'received_at': '2023-10-29T20:18:13.087800728Z'}, {'gateway_ids': {'gateway_id': 'skylab-has-solar-5223', 'eui': '24E124FFFEF2487C'}, 'time': '2023-10-29T20:18:12.075Z', 'timestamp': 1375466841, 'rssi': -96, 'channel_rssi': -96, 'snr': 7, 'frequency_offset': '14556', 'location': {'latitude': 51.68711, 'longitude': 5.28544, 'altitude': 39, 'source': 'SOURCE_REGISTRY'}, 'uplink_token': 'CiMKIQoVc2t5bGFiLWhhcy1zb2xhci01MjIzEggk4ST//vJIfBDZ6u+PBRoLCIX8+qkGEKDw2E4gqMfZgYSgVioLCIT8+qkGEMDR4SM=', 'channel_index': 7, 'gps_time': '2023-10-29T20:18:12.075Z', 'received_at': '2023-10-29T20:18:13.110629953Z'}, {'gateway_ids': {'gateway_id': 'gateway-atd'}, 'time': '2023-10-29T20:18:13Z', 'timestamp': 3722364004, 'rssi': -61, 'channel_rssi': -61, 'snr': 9.75, 'location': {'latitude': 51.687752610051945, 'longitude': 5.28666830059592, 'altitude': 5, 'source': 'SOURCE_REGISTRY'}, 'uplink_token': 'Cg8KDQoLZ2F0ZXdheS1hdGQQ5Ij77g0aCwiF/PqpBhCCg9VlIKDNvPGq6QE=', 'received_at': '2023-10-29T20:18:13.213205378Z'}], 'settings': {'data_rate': {'lora': {'bandwidth': 125000, 'spreading_factor': 7, 'coding_rate': '4/5'}}, 'frequency': '867900000', 'timestamp': 604254012}, 'received_at': '2023-10-29T20:18:13.095600997Z', 'consumed_airtime': '0.056576s', 'version_ids': {'brand_id': 'elsys', 'model_id': 'ers-lite', 'hardware_version': '1.0', 'firmware_version': '1.0', 'band_id': 'EU_863_870'}, 'network_ids': {'net_id': '000013', 'ns_id': 'EC656E0000000181', 'tenant_id': 'ttn', 'cluster_id': 'eu1', 'cluster_address': 'eu1.cloud.thethings.network'}}}]\n"
     ]
    }
   ],
   "source": [
    "jsonValues = response.json()\n",
    "print(jsonValues[:2])"
   ]
  },
  {
   "cell_type": "markdown",
   "metadata": {},
   "source": [
    "Now lets fetch them in a Pandas DataFrame so that we have a more structured set"
   ]
  },
  {
   "cell_type": "code",
   "execution_count": 5,
   "metadata": {
    "tags": []
   },
   "outputs": [
    {
     "data": {
      "text/html": [
       "<div>\n",
       "<style scoped>\n",
       "    .dataframe tbody tr th:only-of-type {\n",
       "        vertical-align: middle;\n",
       "    }\n",
       "\n",
       "    .dataframe tbody tr th {\n",
       "        vertical-align: top;\n",
       "    }\n",
       "\n",
       "    .dataframe thead th {\n",
       "        text-align: right;\n",
       "    }\n",
       "</style>\n",
       "<table border=\"1\" class=\"dataframe\">\n",
       "  <thead>\n",
       "    <tr style=\"text-align: right;\">\n",
       "      <th></th>\n",
       "      <th>_id</th>\n",
       "      <th>end_device_ids</th>\n",
       "      <th>correlation_ids</th>\n",
       "      <th>received_at</th>\n",
       "      <th>uplink_message</th>\n",
       "    </tr>\n",
       "  </thead>\n",
       "  <tbody>\n",
       "    <tr>\n",
       "      <th>0</th>\n",
       "      <td>6546bdbd8b0f053800000006</td>\n",
       "      <td>{'device_id': 'eui-a81758fffe0600fb', 'applica...</td>\n",
       "      <td>[gs:uplink:01HEE5AANVKB1ENZGPXHK5KW20]</td>\n",
       "      <td>2023-11-04T21:55:09.323972827Z</td>\n",
       "      <td>{'session_key_id': 'AYrQQaTUQCvZXl5oaGOvwQ==',...</td>\n",
       "    </tr>\n",
       "    <tr>\n",
       "      <th>1</th>\n",
       "      <td>653ebe054e059d200000000c</td>\n",
       "      <td>{'device_id': 'eui-a81758fffe0600fb', 'applica...</td>\n",
       "      <td>[gs:uplink:01HDYHCGZ6AX4JCKFX4RRXGGQ6]</td>\n",
       "      <td>2023-10-29T20:18:13.299448415Z</td>\n",
       "      <td>{'session_key_id': 'AYrQQaTUQCvZXl5oaGOvwQ==',...</td>\n",
       "    </tr>\n",
       "    <tr>\n",
       "      <th>2</th>\n",
       "      <td>653ec3a54e059d200000001c</td>\n",
       "      <td>{'device_id': 'eui-a81758fffe0600fb', 'applica...</td>\n",
       "      <td>[gs:uplink:01HDYJRF4CRDYEGQ730V0TBRVF]</td>\n",
       "      <td>2023-10-29T20:42:13.213982208Z</td>\n",
       "      <td>{'session_key_id': 'AYrQQaTUQCvZXl5oaGOvwQ==',...</td>\n",
       "    </tr>\n",
       "    <tr>\n",
       "      <th>3</th>\n",
       "      <td>653ebd514e059d200000000a</td>\n",
       "      <td>{'device_id': 'eui-a81758fffe0600fb', 'applica...</td>\n",
       "      <td>[gs:uplink:01HDYH716V5DNG1ZW4D111V829]</td>\n",
       "      <td>2023-10-29T20:15:13.328367088Z</td>\n",
       "      <td>{'session_key_id': 'AYrQQaTUQCvZXl5oaGOvwQ==',...</td>\n",
       "    </tr>\n",
       "    <tr>\n",
       "      <th>4</th>\n",
       "      <td>653ebf134e059d200000000f</td>\n",
       "      <td>{'device_id': 'eui-a81758fffe0600fb', 'applica...</td>\n",
       "      <td>[gs:uplink:01HDYHMRM5GHA60F99VSP3VXFK]</td>\n",
       "      <td>2023-10-29T20:22:43.286937984Z</td>\n",
       "      <td>{'session_key_id': 'AYrQQaTUQCvZXl5oaGOvwQ==',...</td>\n",
       "    </tr>\n",
       "  </tbody>\n",
       "</table>\n",
       "</div>"
      ],
      "text/plain": [
       "                        _id  \\\n",
       "0  6546bdbd8b0f053800000006   \n",
       "1  653ebe054e059d200000000c   \n",
       "2  653ec3a54e059d200000001c   \n",
       "3  653ebd514e059d200000000a   \n",
       "4  653ebf134e059d200000000f   \n",
       "\n",
       "                                      end_device_ids  \\\n",
       "0  {'device_id': 'eui-a81758fffe0600fb', 'applica...   \n",
       "1  {'device_id': 'eui-a81758fffe0600fb', 'applica...   \n",
       "2  {'device_id': 'eui-a81758fffe0600fb', 'applica...   \n",
       "3  {'device_id': 'eui-a81758fffe0600fb', 'applica...   \n",
       "4  {'device_id': 'eui-a81758fffe0600fb', 'applica...   \n",
       "\n",
       "                          correlation_ids                     received_at  \\\n",
       "0  [gs:uplink:01HEE5AANVKB1ENZGPXHK5KW20]  2023-11-04T21:55:09.323972827Z   \n",
       "1  [gs:uplink:01HDYHCGZ6AX4JCKFX4RRXGGQ6]  2023-10-29T20:18:13.299448415Z   \n",
       "2  [gs:uplink:01HDYJRF4CRDYEGQ730V0TBRVF]  2023-10-29T20:42:13.213982208Z   \n",
       "3  [gs:uplink:01HDYH716V5DNG1ZW4D111V829]  2023-10-29T20:15:13.328367088Z   \n",
       "4  [gs:uplink:01HDYHMRM5GHA60F99VSP3VXFK]  2023-10-29T20:22:43.286937984Z   \n",
       "\n",
       "                                      uplink_message  \n",
       "0  {'session_key_id': 'AYrQQaTUQCvZXl5oaGOvwQ==',...  \n",
       "1  {'session_key_id': 'AYrQQaTUQCvZXl5oaGOvwQ==',...  \n",
       "2  {'session_key_id': 'AYrQQaTUQCvZXl5oaGOvwQ==',...  \n",
       "3  {'session_key_id': 'AYrQQaTUQCvZXl5oaGOvwQ==',...  \n",
       "4  {'session_key_id': 'AYrQQaTUQCvZXl5oaGOvwQ==',...  "
      ]
     },
     "execution_count": 5,
     "metadata": {},
     "output_type": "execute_result"
    }
   ],
   "source": [
    "df = pd.DataFrame.from_dict(jsonValues)\n",
    "df.head()"
   ]
  },
  {
   "cell_type": "markdown",
   "metadata": {},
   "source": [
    "## Getting the same results over and over again\n",
    "Execute the following two cells, we are going to fetch 2 results out of the set. Are they the same? Is this reproducible?"
   ]
  },
  {
   "cell_type": "code",
   "execution_count": 6,
   "metadata": {
    "tags": []
   },
   "outputs": [
    {
     "data": {
      "text/html": [
       "<div>\n",
       "<style scoped>\n",
       "    .dataframe tbody tr th:only-of-type {\n",
       "        vertical-align: middle;\n",
       "    }\n",
       "\n",
       "    .dataframe tbody tr th {\n",
       "        vertical-align: top;\n",
       "    }\n",
       "\n",
       "    .dataframe thead th {\n",
       "        text-align: right;\n",
       "    }\n",
       "</style>\n",
       "<table border=\"1\" class=\"dataframe\">\n",
       "  <thead>\n",
       "    <tr style=\"text-align: right;\">\n",
       "      <th></th>\n",
       "      <th>_id</th>\n",
       "      <th>end_device_ids</th>\n",
       "      <th>correlation_ids</th>\n",
       "      <th>received_at</th>\n",
       "      <th>uplink_message</th>\n",
       "    </tr>\n",
       "  </thead>\n",
       "  <tbody>\n",
       "    <tr>\n",
       "      <th>306</th>\n",
       "      <td>652481278c7c923b0000097e</td>\n",
       "      <td>{'device_id': 'eui-a81758fffe0600fb', 'applica...</td>\n",
       "      <td>[gs:uplink:01HCB9H0CNKQF28Z9RCTDV0VZM]</td>\n",
       "      <td>2023-10-09T22:39:35.525907978Z</td>\n",
       "      <td>{'session_key_id': 'AYrQQaTUQCvZXl5oaGOvwQ==',...</td>\n",
       "    </tr>\n",
       "    <tr>\n",
       "      <th>871</th>\n",
       "      <td>6525ee0d94c74021000003b9</td>\n",
       "      <td>{'device_id': 'eui-a81758fffe0600fb', 'applica...</td>\n",
       "      <td>[gs:uplink:01HCE2KRWB39HJ3YNYNXX6FSZE]</td>\n",
       "      <td>2023-10-11T00:36:29.399621Z</td>\n",
       "      <td>{'session_key_id': 'AYrQQaTUQCvZXl5oaGOvwQ==',...</td>\n",
       "    </tr>\n",
       "  </tbody>\n",
       "</table>\n",
       "</div>"
      ],
      "text/plain": [
       "                          _id  \\\n",
       "306  652481278c7c923b0000097e   \n",
       "871  6525ee0d94c74021000003b9   \n",
       "\n",
       "                                        end_device_ids  \\\n",
       "306  {'device_id': 'eui-a81758fffe0600fb', 'applica...   \n",
       "871  {'device_id': 'eui-a81758fffe0600fb', 'applica...   \n",
       "\n",
       "                            correlation_ids                     received_at  \\\n",
       "306  [gs:uplink:01HCB9H0CNKQF28Z9RCTDV0VZM]  2023-10-09T22:39:35.525907978Z   \n",
       "871  [gs:uplink:01HCE2KRWB39HJ3YNYNXX6FSZE]     2023-10-11T00:36:29.399621Z   \n",
       "\n",
       "                                        uplink_message  \n",
       "306  {'session_key_id': 'AYrQQaTUQCvZXl5oaGOvwQ==',...  \n",
       "871  {'session_key_id': 'AYrQQaTUQCvZXl5oaGOvwQ==',...  "
      ]
     },
     "execution_count": 6,
     "metadata": {},
     "output_type": "execute_result"
    }
   ],
   "source": [
    "df.sample(n=2)"
   ]
  },
  {
   "cell_type": "code",
   "execution_count": 7,
   "metadata": {
    "tags": []
   },
   "outputs": [
    {
     "data": {
      "text/html": [
       "<div>\n",
       "<style scoped>\n",
       "    .dataframe tbody tr th:only-of-type {\n",
       "        vertical-align: middle;\n",
       "    }\n",
       "\n",
       "    .dataframe tbody tr th {\n",
       "        vertical-align: top;\n",
       "    }\n",
       "\n",
       "    .dataframe thead th {\n",
       "        text-align: right;\n",
       "    }\n",
       "</style>\n",
       "<table border=\"1\" class=\"dataframe\">\n",
       "  <thead>\n",
       "    <tr style=\"text-align: right;\">\n",
       "      <th></th>\n",
       "      <th>_id</th>\n",
       "      <th>end_device_ids</th>\n",
       "      <th>correlation_ids</th>\n",
       "      <th>received_at</th>\n",
       "      <th>uplink_message</th>\n",
       "    </tr>\n",
       "  </thead>\n",
       "  <tbody>\n",
       "    <tr>\n",
       "      <th>564</th>\n",
       "      <td>6525822194c7402100000281</td>\n",
       "      <td>{'device_id': 'eui-a81758fffe0600fb', 'applica...</td>\n",
       "      <td>[gs:uplink:01HCD88M7N8RBZZSG6BBQ54Y4C]</td>\n",
       "      <td>2023-10-10T16:56:01.219309536Z</td>\n",
       "      <td>{'session_key_id': 'AYrQQaTUQCvZXl5oaGOvwQ==',...</td>\n",
       "    </tr>\n",
       "    <tr>\n",
       "      <th>746</th>\n",
       "      <td>6525c21c94c7402100000337</td>\n",
       "      <td>{'device_id': 'eui-a81758fffe0600fb', 'applica...</td>\n",
       "      <td>[gs:uplink:01HCDQWF8W8FNG79VWZFWHCBH4]</td>\n",
       "      <td>2023-10-10T21:29:00.141697550Z</td>\n",
       "      <td>{'session_key_id': 'AYrQQaTUQCvZXl5oaGOvwQ==',...</td>\n",
       "    </tr>\n",
       "  </tbody>\n",
       "</table>\n",
       "</div>"
      ],
      "text/plain": [
       "                          _id  \\\n",
       "564  6525822194c7402100000281   \n",
       "746  6525c21c94c7402100000337   \n",
       "\n",
       "                                        end_device_ids  \\\n",
       "564  {'device_id': 'eui-a81758fffe0600fb', 'applica...   \n",
       "746  {'device_id': 'eui-a81758fffe0600fb', 'applica...   \n",
       "\n",
       "                            correlation_ids                     received_at  \\\n",
       "564  [gs:uplink:01HCD88M7N8RBZZSG6BBQ54Y4C]  2023-10-10T16:56:01.219309536Z   \n",
       "746  [gs:uplink:01HCDQWF8W8FNG79VWZFWHCBH4]  2023-10-10T21:29:00.141697550Z   \n",
       "\n",
       "                                        uplink_message  \n",
       "564  {'session_key_id': 'AYrQQaTUQCvZXl5oaGOvwQ==',...  \n",
       "746  {'session_key_id': 'AYrQQaTUQCvZXl5oaGOvwQ==',...  "
      ]
     },
     "execution_count": 7,
     "metadata": {},
     "output_type": "execute_result"
    }
   ],
   "source": [
    "df.sample(n=2)"
   ]
  },
  {
   "cell_type": "markdown",
   "metadata": {},
   "source": [
    "We want all of these things to be the same so that machine learning (during development) on every computer will act the same and so that we can compare our performance over various computers and or various models.\n",
    "To do so, we need to set a random seed, this can be any number."
   ]
  },
  {
   "cell_type": "code",
   "execution_count": 8,
   "metadata": {
    "tags": []
   },
   "outputs": [],
   "source": [
    "seed = 20200923"
   ]
  },
  {
   "cell_type": "markdown",
   "metadata": {},
   "source": [
    "Now let us sample twice again, but with the random_state set to a fixed number."
   ]
  },
  {
   "cell_type": "code",
   "execution_count": 9,
   "metadata": {
    "tags": []
   },
   "outputs": [
    {
     "data": {
      "text/html": [
       "<div>\n",
       "<style scoped>\n",
       "    .dataframe tbody tr th:only-of-type {\n",
       "        vertical-align: middle;\n",
       "    }\n",
       "\n",
       "    .dataframe tbody tr th {\n",
       "        vertical-align: top;\n",
       "    }\n",
       "\n",
       "    .dataframe thead th {\n",
       "        text-align: right;\n",
       "    }\n",
       "</style>\n",
       "<table border=\"1\" class=\"dataframe\">\n",
       "  <thead>\n",
       "    <tr style=\"text-align: right;\">\n",
       "      <th></th>\n",
       "      <th>_id</th>\n",
       "      <th>end_device_ids</th>\n",
       "      <th>correlation_ids</th>\n",
       "      <th>received_at</th>\n",
       "      <th>uplink_message</th>\n",
       "    </tr>\n",
       "  </thead>\n",
       "  <tbody>\n",
       "    <tr>\n",
       "      <th>248</th>\n",
       "      <td>65246cc38c7c923b00000943</td>\n",
       "      <td>{'device_id': 'eui-a81758fffe0600fb', 'applica...</td>\n",
       "      <td>[gs:uplink:01HCB4HQ26YQQBKF5T7FHW4QZD]</td>\n",
       "      <td>2023-10-09T21:12:35.863763780Z</td>\n",
       "      <td>{'session_key_id': 'AYrQQaTUQCvZXl5oaGOvwQ==',...</td>\n",
       "    </tr>\n",
       "    <tr>\n",
       "      <th>647</th>\n",
       "      <td>65259f4e94c74021000002d4</td>\n",
       "      <td>{'device_id': 'eui-a81758fffe0600fb', 'applica...</td>\n",
       "      <td>[gs:uplink:01HCDFCJQHR65JEMD2PXR1VHAX]</td>\n",
       "      <td>2023-10-10T19:00:30.784424606Z</td>\n",
       "      <td>{'session_key_id': 'AYrQQaTUQCvZXl5oaGOvwQ==',...</td>\n",
       "    </tr>\n",
       "  </tbody>\n",
       "</table>\n",
       "</div>"
      ],
      "text/plain": [
       "                          _id  \\\n",
       "248  65246cc38c7c923b00000943   \n",
       "647  65259f4e94c74021000002d4   \n",
       "\n",
       "                                        end_device_ids  \\\n",
       "248  {'device_id': 'eui-a81758fffe0600fb', 'applica...   \n",
       "647  {'device_id': 'eui-a81758fffe0600fb', 'applica...   \n",
       "\n",
       "                            correlation_ids                     received_at  \\\n",
       "248  [gs:uplink:01HCB4HQ26YQQBKF5T7FHW4QZD]  2023-10-09T21:12:35.863763780Z   \n",
       "647  [gs:uplink:01HCDFCJQHR65JEMD2PXR1VHAX]  2023-10-10T19:00:30.784424606Z   \n",
       "\n",
       "                                        uplink_message  \n",
       "248  {'session_key_id': 'AYrQQaTUQCvZXl5oaGOvwQ==',...  \n",
       "647  {'session_key_id': 'AYrQQaTUQCvZXl5oaGOvwQ==',...  "
      ]
     },
     "execution_count": 9,
     "metadata": {},
     "output_type": "execute_result"
    }
   ],
   "source": [
    "df.sample(n=2, random_state=seed)"
   ]
  },
  {
   "cell_type": "code",
   "execution_count": 10,
   "metadata": {
    "tags": []
   },
   "outputs": [
    {
     "data": {
      "text/html": [
       "<div>\n",
       "<style scoped>\n",
       "    .dataframe tbody tr th:only-of-type {\n",
       "        vertical-align: middle;\n",
       "    }\n",
       "\n",
       "    .dataframe tbody tr th {\n",
       "        vertical-align: top;\n",
       "    }\n",
       "\n",
       "    .dataframe thead th {\n",
       "        text-align: right;\n",
       "    }\n",
       "</style>\n",
       "<table border=\"1\" class=\"dataframe\">\n",
       "  <thead>\n",
       "    <tr style=\"text-align: right;\">\n",
       "      <th></th>\n",
       "      <th>_id</th>\n",
       "      <th>end_device_ids</th>\n",
       "      <th>correlation_ids</th>\n",
       "      <th>received_at</th>\n",
       "      <th>uplink_message</th>\n",
       "    </tr>\n",
       "  </thead>\n",
       "  <tbody>\n",
       "    <tr>\n",
       "      <th>248</th>\n",
       "      <td>65246cc38c7c923b00000943</td>\n",
       "      <td>{'device_id': 'eui-a81758fffe0600fb', 'applica...</td>\n",
       "      <td>[gs:uplink:01HCB4HQ26YQQBKF5T7FHW4QZD]</td>\n",
       "      <td>2023-10-09T21:12:35.863763780Z</td>\n",
       "      <td>{'session_key_id': 'AYrQQaTUQCvZXl5oaGOvwQ==',...</td>\n",
       "    </tr>\n",
       "    <tr>\n",
       "      <th>647</th>\n",
       "      <td>65259f4e94c74021000002d4</td>\n",
       "      <td>{'device_id': 'eui-a81758fffe0600fb', 'applica...</td>\n",
       "      <td>[gs:uplink:01HCDFCJQHR65JEMD2PXR1VHAX]</td>\n",
       "      <td>2023-10-10T19:00:30.784424606Z</td>\n",
       "      <td>{'session_key_id': 'AYrQQaTUQCvZXl5oaGOvwQ==',...</td>\n",
       "    </tr>\n",
       "  </tbody>\n",
       "</table>\n",
       "</div>"
      ],
      "text/plain": [
       "                          _id  \\\n",
       "248  65246cc38c7c923b00000943   \n",
       "647  65259f4e94c74021000002d4   \n",
       "\n",
       "                                        end_device_ids  \\\n",
       "248  {'device_id': 'eui-a81758fffe0600fb', 'applica...   \n",
       "647  {'device_id': 'eui-a81758fffe0600fb', 'applica...   \n",
       "\n",
       "                            correlation_ids                     received_at  \\\n",
       "248  [gs:uplink:01HCB4HQ26YQQBKF5T7FHW4QZD]  2023-10-09T21:12:35.863763780Z   \n",
       "647  [gs:uplink:01HCDFCJQHR65JEMD2PXR1VHAX]  2023-10-10T19:00:30.784424606Z   \n",
       "\n",
       "                                        uplink_message  \n",
       "248  {'session_key_id': 'AYrQQaTUQCvZXl5oaGOvwQ==',...  \n",
       "647  {'session_key_id': 'AYrQQaTUQCvZXl5oaGOvwQ==',...  "
      ]
     },
     "execution_count": 10,
     "metadata": {},
     "output_type": "execute_result"
    }
   ],
   "source": [
    "df.sample(n=2, random_state=seed)"
   ]
  },
  {
   "cell_type": "markdown",
   "metadata": {},
   "source": [
    "## Reproducible data set for training/development purposes\n",
    "Now we connected to our RestDB data set, we have created a connection that is not reproducible. This data set is growing over time or old records could be cleared.\n",
    "When developing in a (data science) team, we want all developers to have the same data at all time. Therefore, we are going to include our data set in our project.\n",
    "\n",
    "* Go back to your Google Sheet containing the data and choose 'File'->'Download'->'Comma separated values (.csv, current sheet)'\n",
    "* When this csv-file is downloaded, add it to your repository by including it in the same folder as this notebook.\n",
    "* Change the filename below\n",
    "* Run the cells to check whether it works."
   ]
  },
  {
   "cell_type": "code",
   "execution_count": 11,
   "metadata": {
    "tags": []
   },
   "outputs": [],
   "source": [
    "csv_filename = 'ATDS-sensor - TheThingsNetwork data'"
   ]
  },
  {
   "cell_type": "code",
   "execution_count": 12,
   "metadata": {
    "tags": []
   },
   "outputs": [
    {
     "ename": "FileNotFoundError",
     "evalue": "[Errno 2] No such file or directory: 'ATDS-sensor - TheThingsNetwork data'",
     "output_type": "error",
     "traceback": [
      "\u001b[1;31m---------------------------------------------------------------------------\u001b[0m",
      "\u001b[1;31mFileNotFoundError\u001b[0m                         Traceback (most recent call last)",
      "Cell \u001b[1;32mIn[12], line 1\u001b[0m\n\u001b[1;32m----> 1\u001b[0m df \u001b[38;5;241m=\u001b[39m pd\u001b[38;5;241m.\u001b[39mread_csv(csv_filename)\n",
      "File \u001b[1;32m~\\anaconda3\\Lib\\site-packages\\pandas\\util\\_decorators.py:211\u001b[0m, in \u001b[0;36mdeprecate_kwarg.<locals>._deprecate_kwarg.<locals>.wrapper\u001b[1;34m(*args, **kwargs)\u001b[0m\n\u001b[0;32m    209\u001b[0m     \u001b[38;5;28;01melse\u001b[39;00m:\n\u001b[0;32m    210\u001b[0m         kwargs[new_arg_name] \u001b[38;5;241m=\u001b[39m new_arg_value\n\u001b[1;32m--> 211\u001b[0m \u001b[38;5;28;01mreturn\u001b[39;00m func(\u001b[38;5;241m*\u001b[39margs, \u001b[38;5;241m*\u001b[39m\u001b[38;5;241m*\u001b[39mkwargs)\n",
      "File \u001b[1;32m~\\anaconda3\\Lib\\site-packages\\pandas\\util\\_decorators.py:331\u001b[0m, in \u001b[0;36mdeprecate_nonkeyword_arguments.<locals>.decorate.<locals>.wrapper\u001b[1;34m(*args, **kwargs)\u001b[0m\n\u001b[0;32m    325\u001b[0m \u001b[38;5;28;01mif\u001b[39;00m \u001b[38;5;28mlen\u001b[39m(args) \u001b[38;5;241m>\u001b[39m num_allow_args:\n\u001b[0;32m    326\u001b[0m     warnings\u001b[38;5;241m.\u001b[39mwarn(\n\u001b[0;32m    327\u001b[0m         msg\u001b[38;5;241m.\u001b[39mformat(arguments\u001b[38;5;241m=\u001b[39m_format_argument_list(allow_args)),\n\u001b[0;32m    328\u001b[0m         \u001b[38;5;167;01mFutureWarning\u001b[39;00m,\n\u001b[0;32m    329\u001b[0m         stacklevel\u001b[38;5;241m=\u001b[39mfind_stack_level(),\n\u001b[0;32m    330\u001b[0m     )\n\u001b[1;32m--> 331\u001b[0m \u001b[38;5;28;01mreturn\u001b[39;00m func(\u001b[38;5;241m*\u001b[39margs, \u001b[38;5;241m*\u001b[39m\u001b[38;5;241m*\u001b[39mkwargs)\n",
      "File \u001b[1;32m~\\anaconda3\\Lib\\site-packages\\pandas\\io\\parsers\\readers.py:950\u001b[0m, in \u001b[0;36mread_csv\u001b[1;34m(filepath_or_buffer, sep, delimiter, header, names, index_col, usecols, squeeze, prefix, mangle_dupe_cols, dtype, engine, converters, true_values, false_values, skipinitialspace, skiprows, skipfooter, nrows, na_values, keep_default_na, na_filter, verbose, skip_blank_lines, parse_dates, infer_datetime_format, keep_date_col, date_parser, dayfirst, cache_dates, iterator, chunksize, compression, thousands, decimal, lineterminator, quotechar, quoting, doublequote, escapechar, comment, encoding, encoding_errors, dialect, error_bad_lines, warn_bad_lines, on_bad_lines, delim_whitespace, low_memory, memory_map, float_precision, storage_options)\u001b[0m\n\u001b[0;32m    935\u001b[0m kwds_defaults \u001b[38;5;241m=\u001b[39m _refine_defaults_read(\n\u001b[0;32m    936\u001b[0m     dialect,\n\u001b[0;32m    937\u001b[0m     delimiter,\n\u001b[1;32m   (...)\u001b[0m\n\u001b[0;32m    946\u001b[0m     defaults\u001b[38;5;241m=\u001b[39m{\u001b[38;5;124m\"\u001b[39m\u001b[38;5;124mdelimiter\u001b[39m\u001b[38;5;124m\"\u001b[39m: \u001b[38;5;124m\"\u001b[39m\u001b[38;5;124m,\u001b[39m\u001b[38;5;124m\"\u001b[39m},\n\u001b[0;32m    947\u001b[0m )\n\u001b[0;32m    948\u001b[0m kwds\u001b[38;5;241m.\u001b[39mupdate(kwds_defaults)\n\u001b[1;32m--> 950\u001b[0m \u001b[38;5;28;01mreturn\u001b[39;00m _read(filepath_or_buffer, kwds)\n",
      "File \u001b[1;32m~\\anaconda3\\Lib\\site-packages\\pandas\\io\\parsers\\readers.py:605\u001b[0m, in \u001b[0;36m_read\u001b[1;34m(filepath_or_buffer, kwds)\u001b[0m\n\u001b[0;32m    602\u001b[0m _validate_names(kwds\u001b[38;5;241m.\u001b[39mget(\u001b[38;5;124m\"\u001b[39m\u001b[38;5;124mnames\u001b[39m\u001b[38;5;124m\"\u001b[39m, \u001b[38;5;28;01mNone\u001b[39;00m))\n\u001b[0;32m    604\u001b[0m \u001b[38;5;66;03m# Create the parser.\u001b[39;00m\n\u001b[1;32m--> 605\u001b[0m parser \u001b[38;5;241m=\u001b[39m TextFileReader(filepath_or_buffer, \u001b[38;5;241m*\u001b[39m\u001b[38;5;241m*\u001b[39mkwds)\n\u001b[0;32m    607\u001b[0m \u001b[38;5;28;01mif\u001b[39;00m chunksize \u001b[38;5;129;01mor\u001b[39;00m iterator:\n\u001b[0;32m    608\u001b[0m     \u001b[38;5;28;01mreturn\u001b[39;00m parser\n",
      "File \u001b[1;32m~\\anaconda3\\Lib\\site-packages\\pandas\\io\\parsers\\readers.py:1442\u001b[0m, in \u001b[0;36mTextFileReader.__init__\u001b[1;34m(self, f, engine, **kwds)\u001b[0m\n\u001b[0;32m   1439\u001b[0m     \u001b[38;5;28mself\u001b[39m\u001b[38;5;241m.\u001b[39moptions[\u001b[38;5;124m\"\u001b[39m\u001b[38;5;124mhas_index_names\u001b[39m\u001b[38;5;124m\"\u001b[39m] \u001b[38;5;241m=\u001b[39m kwds[\u001b[38;5;124m\"\u001b[39m\u001b[38;5;124mhas_index_names\u001b[39m\u001b[38;5;124m\"\u001b[39m]\n\u001b[0;32m   1441\u001b[0m \u001b[38;5;28mself\u001b[39m\u001b[38;5;241m.\u001b[39mhandles: IOHandles \u001b[38;5;241m|\u001b[39m \u001b[38;5;28;01mNone\u001b[39;00m \u001b[38;5;241m=\u001b[39m \u001b[38;5;28;01mNone\u001b[39;00m\n\u001b[1;32m-> 1442\u001b[0m \u001b[38;5;28mself\u001b[39m\u001b[38;5;241m.\u001b[39m_engine \u001b[38;5;241m=\u001b[39m \u001b[38;5;28mself\u001b[39m\u001b[38;5;241m.\u001b[39m_make_engine(f, \u001b[38;5;28mself\u001b[39m\u001b[38;5;241m.\u001b[39mengine)\n",
      "File \u001b[1;32m~\\anaconda3\\Lib\\site-packages\\pandas\\io\\parsers\\readers.py:1735\u001b[0m, in \u001b[0;36mTextFileReader._make_engine\u001b[1;34m(self, f, engine)\u001b[0m\n\u001b[0;32m   1733\u001b[0m     \u001b[38;5;28;01mif\u001b[39;00m \u001b[38;5;124m\"\u001b[39m\u001b[38;5;124mb\u001b[39m\u001b[38;5;124m\"\u001b[39m \u001b[38;5;129;01mnot\u001b[39;00m \u001b[38;5;129;01min\u001b[39;00m mode:\n\u001b[0;32m   1734\u001b[0m         mode \u001b[38;5;241m+\u001b[39m\u001b[38;5;241m=\u001b[39m \u001b[38;5;124m\"\u001b[39m\u001b[38;5;124mb\u001b[39m\u001b[38;5;124m\"\u001b[39m\n\u001b[1;32m-> 1735\u001b[0m \u001b[38;5;28mself\u001b[39m\u001b[38;5;241m.\u001b[39mhandles \u001b[38;5;241m=\u001b[39m get_handle(\n\u001b[0;32m   1736\u001b[0m     f,\n\u001b[0;32m   1737\u001b[0m     mode,\n\u001b[0;32m   1738\u001b[0m     encoding\u001b[38;5;241m=\u001b[39m\u001b[38;5;28mself\u001b[39m\u001b[38;5;241m.\u001b[39moptions\u001b[38;5;241m.\u001b[39mget(\u001b[38;5;124m\"\u001b[39m\u001b[38;5;124mencoding\u001b[39m\u001b[38;5;124m\"\u001b[39m, \u001b[38;5;28;01mNone\u001b[39;00m),\n\u001b[0;32m   1739\u001b[0m     compression\u001b[38;5;241m=\u001b[39m\u001b[38;5;28mself\u001b[39m\u001b[38;5;241m.\u001b[39moptions\u001b[38;5;241m.\u001b[39mget(\u001b[38;5;124m\"\u001b[39m\u001b[38;5;124mcompression\u001b[39m\u001b[38;5;124m\"\u001b[39m, \u001b[38;5;28;01mNone\u001b[39;00m),\n\u001b[0;32m   1740\u001b[0m     memory_map\u001b[38;5;241m=\u001b[39m\u001b[38;5;28mself\u001b[39m\u001b[38;5;241m.\u001b[39moptions\u001b[38;5;241m.\u001b[39mget(\u001b[38;5;124m\"\u001b[39m\u001b[38;5;124mmemory_map\u001b[39m\u001b[38;5;124m\"\u001b[39m, \u001b[38;5;28;01mFalse\u001b[39;00m),\n\u001b[0;32m   1741\u001b[0m     is_text\u001b[38;5;241m=\u001b[39mis_text,\n\u001b[0;32m   1742\u001b[0m     errors\u001b[38;5;241m=\u001b[39m\u001b[38;5;28mself\u001b[39m\u001b[38;5;241m.\u001b[39moptions\u001b[38;5;241m.\u001b[39mget(\u001b[38;5;124m\"\u001b[39m\u001b[38;5;124mencoding_errors\u001b[39m\u001b[38;5;124m\"\u001b[39m, \u001b[38;5;124m\"\u001b[39m\u001b[38;5;124mstrict\u001b[39m\u001b[38;5;124m\"\u001b[39m),\n\u001b[0;32m   1743\u001b[0m     storage_options\u001b[38;5;241m=\u001b[39m\u001b[38;5;28mself\u001b[39m\u001b[38;5;241m.\u001b[39moptions\u001b[38;5;241m.\u001b[39mget(\u001b[38;5;124m\"\u001b[39m\u001b[38;5;124mstorage_options\u001b[39m\u001b[38;5;124m\"\u001b[39m, \u001b[38;5;28;01mNone\u001b[39;00m),\n\u001b[0;32m   1744\u001b[0m )\n\u001b[0;32m   1745\u001b[0m \u001b[38;5;28;01massert\u001b[39;00m \u001b[38;5;28mself\u001b[39m\u001b[38;5;241m.\u001b[39mhandles \u001b[38;5;129;01mis\u001b[39;00m \u001b[38;5;129;01mnot\u001b[39;00m \u001b[38;5;28;01mNone\u001b[39;00m\n\u001b[0;32m   1746\u001b[0m f \u001b[38;5;241m=\u001b[39m \u001b[38;5;28mself\u001b[39m\u001b[38;5;241m.\u001b[39mhandles\u001b[38;5;241m.\u001b[39mhandle\n",
      "File \u001b[1;32m~\\anaconda3\\Lib\\site-packages\\pandas\\io\\common.py:856\u001b[0m, in \u001b[0;36mget_handle\u001b[1;34m(path_or_buf, mode, encoding, compression, memory_map, is_text, errors, storage_options)\u001b[0m\n\u001b[0;32m    851\u001b[0m \u001b[38;5;28;01melif\u001b[39;00m \u001b[38;5;28misinstance\u001b[39m(handle, \u001b[38;5;28mstr\u001b[39m):\n\u001b[0;32m    852\u001b[0m     \u001b[38;5;66;03m# Check whether the filename is to be opened in binary mode.\u001b[39;00m\n\u001b[0;32m    853\u001b[0m     \u001b[38;5;66;03m# Binary mode does not support 'encoding' and 'newline'.\u001b[39;00m\n\u001b[0;32m    854\u001b[0m     \u001b[38;5;28;01mif\u001b[39;00m ioargs\u001b[38;5;241m.\u001b[39mencoding \u001b[38;5;129;01mand\u001b[39;00m \u001b[38;5;124m\"\u001b[39m\u001b[38;5;124mb\u001b[39m\u001b[38;5;124m\"\u001b[39m \u001b[38;5;129;01mnot\u001b[39;00m \u001b[38;5;129;01min\u001b[39;00m ioargs\u001b[38;5;241m.\u001b[39mmode:\n\u001b[0;32m    855\u001b[0m         \u001b[38;5;66;03m# Encoding\u001b[39;00m\n\u001b[1;32m--> 856\u001b[0m         handle \u001b[38;5;241m=\u001b[39m \u001b[38;5;28mopen\u001b[39m(\n\u001b[0;32m    857\u001b[0m             handle,\n\u001b[0;32m    858\u001b[0m             ioargs\u001b[38;5;241m.\u001b[39mmode,\n\u001b[0;32m    859\u001b[0m             encoding\u001b[38;5;241m=\u001b[39mioargs\u001b[38;5;241m.\u001b[39mencoding,\n\u001b[0;32m    860\u001b[0m             errors\u001b[38;5;241m=\u001b[39merrors,\n\u001b[0;32m    861\u001b[0m             newline\u001b[38;5;241m=\u001b[39m\u001b[38;5;124m\"\u001b[39m\u001b[38;5;124m\"\u001b[39m,\n\u001b[0;32m    862\u001b[0m         )\n\u001b[0;32m    863\u001b[0m     \u001b[38;5;28;01melse\u001b[39;00m:\n\u001b[0;32m    864\u001b[0m         \u001b[38;5;66;03m# Binary mode\u001b[39;00m\n\u001b[0;32m    865\u001b[0m         handle \u001b[38;5;241m=\u001b[39m \u001b[38;5;28mopen\u001b[39m(handle, ioargs\u001b[38;5;241m.\u001b[39mmode)\n",
      "\u001b[1;31mFileNotFoundError\u001b[0m: [Errno 2] No such file or directory: 'ATDS-sensor - TheThingsNetwork data'"
     ]
    }
   ],
   "source": [
    "df = pd.read_csv(csv_filename)"
   ]
  },
  {
   "cell_type": "code",
   "execution_count": null,
   "metadata": {
    "tags": []
   },
   "outputs": [],
   "source": [
    "df.head(2)"
   ]
  },
  {
   "cell_type": "markdown",
   "metadata": {},
   "source": [
    "Now we all have the same data and use the same seed.\n",
    "Every random value assigned and gotten from the set will be the same for all developers.\n",
    "\n",
    "**Important: This random seed should not be used in production as models will not perform as good with a fixed seed.**"
   ]
  },
  {
   "cell_type": "code",
   "execution_count": null,
   "metadata": {},
   "outputs": [],
   "source": [
    "df.sample(n = 2, random_state=seed)"
   ]
  },
  {
   "cell_type": "code",
   "execution_count": null,
   "metadata": {},
   "outputs": [],
   "source": [
    "df.sample(n = 2, random_state=seed)"
   ]
  }
 ],
 "metadata": {
  "kernelspec": {
   "display_name": "Python 3 (ipykernel)",
   "language": "python",
   "name": "python3"
  },
  "language_info": {
   "codemirror_mode": {
    "name": "ipython",
    "version": 3
   },
   "file_extension": ".py",
   "mimetype": "text/x-python",
   "name": "python",
   "nbconvert_exporter": "python",
   "pygments_lexer": "ipython3",
   "version": "3.11.4"
  }
 },
 "nbformat": 4,
 "nbformat_minor": 4
}
