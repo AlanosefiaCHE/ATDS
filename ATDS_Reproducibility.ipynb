{
 "cells": [
  {
   "cell_type": "markdown",
   "metadata": {},
   "source": [
    "# Running reproducable code\n",
    "This Notebook guides you in creating code that reproduces the same results over and over.\n",
    "Additionally, we are going to connect to our RestDB data."
   ]
  },
  {
   "cell_type": "code",
   "execution_count": 1,
   "metadata": {
    "tags": []
   },
   "outputs": [],
   "source": [
    "import requests\n",
    "import pandas as pd"
   ]
  },
  {
   "cell_type": "markdown",
   "metadata": {},
   "source": [
    "* Enter your URL for the data set from RestDB below.\n",
    "* Additionaly, enter your API-key."
   ]
  },
  {
   "cell_type": "code",
   "execution_count": 2,
   "metadata": {
    "tags": []
   },
   "outputs": [],
   "source": [
    "restUrl = 'https://atdssensor-f1a6.restdb.io/rest/ttnraw'\n",
    "api_key = '65240dc6688854416d0c03d3'"
   ]
  },
  {
   "cell_type": "markdown",
   "metadata": {},
   "source": [
    "If your credentials above are correct and you execute the following cell, it should print:<br />\n",
    "**<Response [200]>**"
   ]
  },
  {
   "cell_type": "code",
   "execution_count": 3,
   "metadata": {
    "tags": []
   },
   "outputs": [
    {
     "name": "stdout",
     "output_type": "stream",
     "text": [
      "<Response [200]>\n"
     ]
    }
   ],
   "source": [
    "response = requests.get(restUrl, headers = { 'x-apikey': api_key })\n",
    "print(response)"
   ]
  },
  {
   "cell_type": "markdown",
   "metadata": {},
   "source": [
    "Now we are going to get our responses in a JSON format (we print only the first and second record)."
   ]
  },
  {
   "cell_type": "code",
   "execution_count": 4,
   "metadata": {
    "tags": []
   },
   "outputs": [
    {
     "name": "stdout",
     "output_type": "stream",
     "text": [
      "[{'_id': '6546bdbd8b0f053800000006', 'end_device_ids': {'device_id': 'eui-a81758fffe0600fb', 'application_ids': {'application_id': '20230904-amo-id1'}, 'dev_eui': 'A81758FFFE0600FB', 'join_eui': '0000000000000004', 'dev_addr': '260BB765'}, 'correlation_ids': ['gs:uplink:01HEE5AANVKB1ENZGPXHK5KW20'], 'received_at': '2023-11-04T21:55:09.323972827Z', 'uplink_message': {'session_key_id': 'AYrQQaTUQCvZXl5oaGOvwQ==', 'f_port': 5, 'f_cnt': 38045, 'frm_payload': 'AQC3AjIHDh4=', 'decoded_payload': {'humidity': 50, 'temperature': 18.3, 'vdd': 3614}, 'rx_metadata': [{'gateway_ids': {'gateway_id': 'eui-1dee1184df05cb11', 'eui': 'ACC2DA6FF56AD33A'}, 'timestamp': 833900539, 'rssi': -113, 'channel_rssi': -113, 'snr': -1, 'location': {'latitude': 51.68637288608396, 'longitude': 5.285550355911256, 'altitude': 20, 'source': 'SOURCE_REGISTRY'}, 'uplink_token': 'CiIKIAoUZXVpLTFkZWUxMTg0ZGYwNWNiMTESCKzC2m/1atM6EPuf0Y0DGgsIvfuaqgYQ7/v0NiD42OHCoqjLAQ==', 'received_at': '2023-11-04T21:55:09.104971476Z'}, {'gateway_ids': {'gateway_id': 'qout4g0060', 'eui': 'A84041FFFF211C94'}, 'time': '2023-11-04T21:55:27.315Z', 'timestamp': 1103203891, 'rssi': -102, 'channel_rssi': -102, 'snr': 6.8, 'uplink_token': 'ChgKFgoKcW91dDRnMDA2MBIIqEBB//8hHJQQs5yGjgQaCwi9+5qqBhCj++VLILjuzeCNoqYBKgwIz/uaqgYQwImalgE=', 'gps_time': '2023-11-04T21:55:27.315Z', 'received_at': '2023-11-04T21:55:09.124769704Z'}, {'gateway_ids': {'gateway_id': 'skylab-has-solar-5223', 'eui': '24E124FFFEF2487C'}, 'time': '2023-11-04T21:55:09.105Z', 'timestamp': 2897114568, 'rssi': -90, 'channel_rssi': -90, 'snr': 13.8, 'frequency_offset': '14640', 'location': {'latitude': 51.68711, 'longitude': 5.28544, 'altitude': 39, 'source': 'SOURCE_REGISTRY'}, 'uplink_token': 'CiMKIQoVc2t5bGFiLWhhcy1zb2xhci01MjIzEggk4ST//vJIfBDI67nlChoLCL37mqoGEJXa4FQgwKrwy6j7cCoLCL37mqoGEMDYiDI=', 'gps_time': '2023-11-04T21:55:09.105Z', 'received_at': '2023-11-04T21:55:09.119769926Z'}, {'gateway_ids': {'gateway_id': 'gateway-atd'}, 'time': '2023-11-04T21:55:09Z', 'timestamp': 945095571, 'rssi': -117, 'channel_rssi': -117, 'snr': -3, 'location': {'latitude': 51.687752610051945, 'longitude': 5.28666830059592, 'altitude': 5, 'source': 'SOURCE_REGISTRY'}, 'uplink_token': 'Cg8KDQoLZ2F0ZXdheS1hdGQQk4fUwgMaCwi9+5qqBhCixYFmILjs1+DAmAE=', 'received_at': '2023-11-04T21:55:09.213934754Z'}], 'settings': {'data_rate': {'lora': {'bandwidth': 125000, 'spreading_factor': 7, 'coding_rate': '4/5'}}, 'frequency': '868100000', 'timestamp': 833900539}, 'received_at': '2023-11-04T21:55:09.116037221Z', 'consumed_airtime': '0.056576s', 'version_ids': {'brand_id': 'elsys', 'model_id': 'ers-lite', 'hardware_version': '1.0', 'firmware_version': '1.0', 'band_id': 'EU_863_870'}, 'network_ids': {'net_id': '000013', 'ns_id': 'EC656E0000000181', 'tenant_id': 'ttn', 'cluster_id': 'eu1', 'cluster_address': 'eu1.cloud.thethings.network'}}}, {'_id': '653ebe054e059d200000000c', 'end_device_ids': {'device_id': 'eui-a81758fffe0600fb', 'application_ids': {'application_id': '20230904-amo-id1'}, 'dev_eui': 'A81758FFFE0600FB', 'join_eui': '0000000000000004', 'dev_addr': '260BB765'}, 'correlation_ids': ['gs:uplink:01HDYHCGZ6AX4JCKFX4RRXGGQ6'], 'received_at': '2023-10-29T20:18:13.299448415Z', 'uplink_message': {'session_key_id': 'AYrQQaTUQCvZXl5oaGOvwQ==', 'f_port': 5, 'f_cnt': 32220, 'frm_payload': 'AQC4Ai8HDiM=', 'decoded_payload': {'humidity': 47, 'temperature': 18.4, 'vdd': 3619}, 'rx_metadata': [{'gateway_ids': {'gateway_id': 'eui-1dee1184df05cb11', 'eui': 'ACC2DA6FF56AD33A'}, 'timestamp': 604254012, 'rssi': -113, 'channel_rssi': -113, 'snr': -4, 'location': {'latitude': 51.68637288608396, 'longitude': 5.285550355911256, 'altitude': 20, 'source': 'SOURCE_REGISTRY'}, 'uplink_token': 'CiIKIAoUZXVpLTFkZWUxMTg0ZGYwNWNiMTESCKzC2m/1atM6ELzekKACGgsIhfz6qQYQwdqaLSDghOKCy49U', 'channel_index': 7, 'received_at': '2023-10-29T20:18:13.094809409Z'}, {'gateway_ids': {'gateway_id': 'qout4g0060', 'eui': 'A84041FFFF211C94'}, 'time': '2023-10-29T20:18:38.681Z', 'timestamp': 873561988, 'rssi': -95, 'channel_rssi': -95, 'snr': 9.2, 'uplink_token': 'ChgKFgoKcW91dDRnMDA2MBIIqEBB//8hHJQQhP/FoAMaCwiF/PqpBhD33rA1IKC36KK2iS8qDAie/PqpBhDA+NzEAg==', 'channel_index': 7, 'gps_time': '2023-10-29T20:18:38.681Z', 'received_at': '2023-10-29T20:18:13.087800728Z'}, {'gateway_ids': {'gateway_id': 'skylab-has-solar-5223', 'eui': '24E124FFFEF2487C'}, 'time': '2023-10-29T20:18:12.075Z', 'timestamp': 1375466841, 'rssi': -96, 'channel_rssi': -96, 'snr': 7, 'frequency_offset': '14556', 'location': {'latitude': 51.68711, 'longitude': 5.28544, 'altitude': 39, 'source': 'SOURCE_REGISTRY'}, 'uplink_token': 'CiMKIQoVc2t5bGFiLWhhcy1zb2xhci01MjIzEggk4ST//vJIfBDZ6u+PBRoLCIX8+qkGEKDw2E4gqMfZgYSgVioLCIT8+qkGEMDR4SM=', 'channel_index': 7, 'gps_time': '2023-10-29T20:18:12.075Z', 'received_at': '2023-10-29T20:18:13.110629953Z'}, {'gateway_ids': {'gateway_id': 'gateway-atd'}, 'time': '2023-10-29T20:18:13Z', 'timestamp': 3722364004, 'rssi': -61, 'channel_rssi': -61, 'snr': 9.75, 'location': {'latitude': 51.687752610051945, 'longitude': 5.28666830059592, 'altitude': 5, 'source': 'SOURCE_REGISTRY'}, 'uplink_token': 'Cg8KDQoLZ2F0ZXdheS1hdGQQ5Ij77g0aCwiF/PqpBhCCg9VlIKDNvPGq6QE=', 'received_at': '2023-10-29T20:18:13.213205378Z'}], 'settings': {'data_rate': {'lora': {'bandwidth': 125000, 'spreading_factor': 7, 'coding_rate': '4/5'}}, 'frequency': '867900000', 'timestamp': 604254012}, 'received_at': '2023-10-29T20:18:13.095600997Z', 'consumed_airtime': '0.056576s', 'version_ids': {'brand_id': 'elsys', 'model_id': 'ers-lite', 'hardware_version': '1.0', 'firmware_version': '1.0', 'band_id': 'EU_863_870'}, 'network_ids': {'net_id': '000013', 'ns_id': 'EC656E0000000181', 'tenant_id': 'ttn', 'cluster_id': 'eu1', 'cluster_address': 'eu1.cloud.thethings.network'}}}]\n"
     ]
    }
   ],
   "source": [
    "jsonValues = response.json()\n",
    "print(jsonValues[:2])"
   ]
  },
  {
   "cell_type": "markdown",
   "metadata": {},
   "source": [
    "Now lets fetch them in a Pandas DataFrame so that we have a more structured set"
   ]
  },
  {
   "cell_type": "code",
   "execution_count": 5,
   "metadata": {
    "tags": []
   },
   "outputs": [
    {
     "data": {
      "text/html": [
       "<div>\n",
       "<style scoped>\n",
       "    .dataframe tbody tr th:only-of-type {\n",
       "        vertical-align: middle;\n",
       "    }\n",
       "\n",
       "    .dataframe tbody tr th {\n",
       "        vertical-align: top;\n",
       "    }\n",
       "\n",
       "    .dataframe thead th {\n",
       "        text-align: right;\n",
       "    }\n",
       "</style>\n",
       "<table border=\"1\" class=\"dataframe\">\n",
       "  <thead>\n",
       "    <tr style=\"text-align: right;\">\n",
       "      <th></th>\n",
       "      <th>_id</th>\n",
       "      <th>end_device_ids</th>\n",
       "      <th>correlation_ids</th>\n",
       "      <th>received_at</th>\n",
       "      <th>uplink_message</th>\n",
       "    </tr>\n",
       "  </thead>\n",
       "  <tbody>\n",
       "    <tr>\n",
       "      <th>0</th>\n",
       "      <td>6546bdbd8b0f053800000006</td>\n",
       "      <td>{'device_id': 'eui-a81758fffe0600fb', 'applica...</td>\n",
       "      <td>[gs:uplink:01HEE5AANVKB1ENZGPXHK5KW20]</td>\n",
       "      <td>2023-11-04T21:55:09.323972827Z</td>\n",
       "      <td>{'session_key_id': 'AYrQQaTUQCvZXl5oaGOvwQ==',...</td>\n",
       "    </tr>\n",
       "    <tr>\n",
       "      <th>1</th>\n",
       "      <td>653ebe054e059d200000000c</td>\n",
       "      <td>{'device_id': 'eui-a81758fffe0600fb', 'applica...</td>\n",
       "      <td>[gs:uplink:01HDYHCGZ6AX4JCKFX4RRXGGQ6]</td>\n",
       "      <td>2023-10-29T20:18:13.299448415Z</td>\n",
       "      <td>{'session_key_id': 'AYrQQaTUQCvZXl5oaGOvwQ==',...</td>\n",
       "    </tr>\n",
       "    <tr>\n",
       "      <th>2</th>\n",
       "      <td>653ec3a54e059d200000001c</td>\n",
       "      <td>{'device_id': 'eui-a81758fffe0600fb', 'applica...</td>\n",
       "      <td>[gs:uplink:01HDYJRF4CRDYEGQ730V0TBRVF]</td>\n",
       "      <td>2023-10-29T20:42:13.213982208Z</td>\n",
       "      <td>{'session_key_id': 'AYrQQaTUQCvZXl5oaGOvwQ==',...</td>\n",
       "    </tr>\n",
       "    <tr>\n",
       "      <th>3</th>\n",
       "      <td>653ebd514e059d200000000a</td>\n",
       "      <td>{'device_id': 'eui-a81758fffe0600fb', 'applica...</td>\n",
       "      <td>[gs:uplink:01HDYH716V5DNG1ZW4D111V829]</td>\n",
       "      <td>2023-10-29T20:15:13.328367088Z</td>\n",
       "      <td>{'session_key_id': 'AYrQQaTUQCvZXl5oaGOvwQ==',...</td>\n",
       "    </tr>\n",
       "    <tr>\n",
       "      <th>4</th>\n",
       "      <td>653ebf134e059d200000000f</td>\n",
       "      <td>{'device_id': 'eui-a81758fffe0600fb', 'applica...</td>\n",
       "      <td>[gs:uplink:01HDYHMRM5GHA60F99VSP3VXFK]</td>\n",
       "      <td>2023-10-29T20:22:43.286937984Z</td>\n",
       "      <td>{'session_key_id': 'AYrQQaTUQCvZXl5oaGOvwQ==',...</td>\n",
       "    </tr>\n",
       "  </tbody>\n",
       "</table>\n",
       "</div>"
      ],
      "text/plain": [
       "                        _id  \\\n",
       "0  6546bdbd8b0f053800000006   \n",
       "1  653ebe054e059d200000000c   \n",
       "2  653ec3a54e059d200000001c   \n",
       "3  653ebd514e059d200000000a   \n",
       "4  653ebf134e059d200000000f   \n",
       "\n",
       "                                      end_device_ids  \\\n",
       "0  {'device_id': 'eui-a81758fffe0600fb', 'applica...   \n",
       "1  {'device_id': 'eui-a81758fffe0600fb', 'applica...   \n",
       "2  {'device_id': 'eui-a81758fffe0600fb', 'applica...   \n",
       "3  {'device_id': 'eui-a81758fffe0600fb', 'applica...   \n",
       "4  {'device_id': 'eui-a81758fffe0600fb', 'applica...   \n",
       "\n",
       "                          correlation_ids                     received_at  \\\n",
       "0  [gs:uplink:01HEE5AANVKB1ENZGPXHK5KW20]  2023-11-04T21:55:09.323972827Z   \n",
       "1  [gs:uplink:01HDYHCGZ6AX4JCKFX4RRXGGQ6]  2023-10-29T20:18:13.299448415Z   \n",
       "2  [gs:uplink:01HDYJRF4CRDYEGQ730V0TBRVF]  2023-10-29T20:42:13.213982208Z   \n",
       "3  [gs:uplink:01HDYH716V5DNG1ZW4D111V829]  2023-10-29T20:15:13.328367088Z   \n",
       "4  [gs:uplink:01HDYHMRM5GHA60F99VSP3VXFK]  2023-10-29T20:22:43.286937984Z   \n",
       "\n",
       "                                      uplink_message  \n",
       "0  {'session_key_id': 'AYrQQaTUQCvZXl5oaGOvwQ==',...  \n",
       "1  {'session_key_id': 'AYrQQaTUQCvZXl5oaGOvwQ==',...  \n",
       "2  {'session_key_id': 'AYrQQaTUQCvZXl5oaGOvwQ==',...  \n",
       "3  {'session_key_id': 'AYrQQaTUQCvZXl5oaGOvwQ==',...  \n",
       "4  {'session_key_id': 'AYrQQaTUQCvZXl5oaGOvwQ==',...  "
      ]
     },
     "execution_count": 5,
     "metadata": {},
     "output_type": "execute_result"
    }
   ],
   "source": [
    "df = pd.DataFrame.from_dict(jsonValues)\n",
    "df.head()"
   ]
  },
  {
   "cell_type": "markdown",
   "metadata": {},
   "source": [
    "## Getting the same results over and over again\n",
    "Execute the following two cells, we are going to fetch 2 results out of the set. Are they the same? Is this reproducible?"
   ]
  },
  {
   "cell_type": "code",
   "execution_count": 6,
   "metadata": {
    "tags": []
   },
   "outputs": [
    {
     "data": {
      "text/html": [
       "<div>\n",
       "<style scoped>\n",
       "    .dataframe tbody tr th:only-of-type {\n",
       "        vertical-align: middle;\n",
       "    }\n",
       "\n",
       "    .dataframe tbody tr th {\n",
       "        vertical-align: top;\n",
       "    }\n",
       "\n",
       "    .dataframe thead th {\n",
       "        text-align: right;\n",
       "    }\n",
       "</style>\n",
       "<table border=\"1\" class=\"dataframe\">\n",
       "  <thead>\n",
       "    <tr style=\"text-align: right;\">\n",
       "      <th></th>\n",
       "      <th>_id</th>\n",
       "      <th>end_device_ids</th>\n",
       "      <th>correlation_ids</th>\n",
       "      <th>received_at</th>\n",
       "      <th>uplink_message</th>\n",
       "    </tr>\n",
       "  </thead>\n",
       "  <tbody>\n",
       "    <tr>\n",
       "      <th>306</th>\n",
       "      <td>652481278c7c923b0000097e</td>\n",
       "      <td>{'device_id': 'eui-a81758fffe0600fb', 'applica...</td>\n",
       "      <td>[gs:uplink:01HCB9H0CNKQF28Z9RCTDV0VZM]</td>\n",
       "      <td>2023-10-09T22:39:35.525907978Z</td>\n",
       "      <td>{'session_key_id': 'AYrQQaTUQCvZXl5oaGOvwQ==',...</td>\n",
       "    </tr>\n",
       "    <tr>\n",
       "      <th>871</th>\n",
       "      <td>6525ee0d94c74021000003b9</td>\n",
       "      <td>{'device_id': 'eui-a81758fffe0600fb', 'applica...</td>\n",
       "      <td>[gs:uplink:01HCE2KRWB39HJ3YNYNXX6FSZE]</td>\n",
       "      <td>2023-10-11T00:36:29.399621Z</td>\n",
       "      <td>{'session_key_id': 'AYrQQaTUQCvZXl5oaGOvwQ==',...</td>\n",
       "    </tr>\n",
       "  </tbody>\n",
       "</table>\n",
       "</div>"
      ],
      "text/plain": [
       "                          _id  \\\n",
       "306  652481278c7c923b0000097e   \n",
       "871  6525ee0d94c74021000003b9   \n",
       "\n",
       "                                        end_device_ids  \\\n",
       "306  {'device_id': 'eui-a81758fffe0600fb', 'applica...   \n",
       "871  {'device_id': 'eui-a81758fffe0600fb', 'applica...   \n",
       "\n",
       "                            correlation_ids                     received_at  \\\n",
       "306  [gs:uplink:01HCB9H0CNKQF28Z9RCTDV0VZM]  2023-10-09T22:39:35.525907978Z   \n",
       "871  [gs:uplink:01HCE2KRWB39HJ3YNYNXX6FSZE]     2023-10-11T00:36:29.399621Z   \n",
       "\n",
       "                                        uplink_message  \n",
       "306  {'session_key_id': 'AYrQQaTUQCvZXl5oaGOvwQ==',...  \n",
       "871  {'session_key_id': 'AYrQQaTUQCvZXl5oaGOvwQ==',...  "
      ]
     },
     "execution_count": 6,
     "metadata": {},
     "output_type": "execute_result"
    }
   ],
   "source": [
    "df.sample(n=2)"
   ]
  },
  {
   "cell_type": "code",
   "execution_count": 7,
   "metadata": {
    "tags": []
   },
   "outputs": [
    {
     "data": {
      "text/html": [
       "<div>\n",
       "<style scoped>\n",
       "    .dataframe tbody tr th:only-of-type {\n",
       "        vertical-align: middle;\n",
       "    }\n",
       "\n",
       "    .dataframe tbody tr th {\n",
       "        vertical-align: top;\n",
       "    }\n",
       "\n",
       "    .dataframe thead th {\n",
       "        text-align: right;\n",
       "    }\n",
       "</style>\n",
       "<table border=\"1\" class=\"dataframe\">\n",
       "  <thead>\n",
       "    <tr style=\"text-align: right;\">\n",
       "      <th></th>\n",
       "      <th>_id</th>\n",
       "      <th>end_device_ids</th>\n",
       "      <th>correlation_ids</th>\n",
       "      <th>received_at</th>\n",
       "      <th>uplink_message</th>\n",
       "    </tr>\n",
       "  </thead>\n",
       "  <tbody>\n",
       "    <tr>\n",
       "      <th>564</th>\n",
       "      <td>6525822194c7402100000281</td>\n",
       "      <td>{'device_id': 'eui-a81758fffe0600fb', 'applica...</td>\n",
       "      <td>[gs:uplink:01HCD88M7N8RBZZSG6BBQ54Y4C]</td>\n",
       "      <td>2023-10-10T16:56:01.219309536Z</td>\n",
       "      <td>{'session_key_id': 'AYrQQaTUQCvZXl5oaGOvwQ==',...</td>\n",
       "    </tr>\n",
       "    <tr>\n",
       "      <th>746</th>\n",
       "      <td>6525c21c94c7402100000337</td>\n",
       "      <td>{'device_id': 'eui-a81758fffe0600fb', 'applica...</td>\n",
       "      <td>[gs:uplink:01HCDQWF8W8FNG79VWZFWHCBH4]</td>\n",
       "      <td>2023-10-10T21:29:00.141697550Z</td>\n",
       "      <td>{'session_key_id': 'AYrQQaTUQCvZXl5oaGOvwQ==',...</td>\n",
       "    </tr>\n",
       "  </tbody>\n",
       "</table>\n",
       "</div>"
      ],
      "text/plain": [
       "                          _id  \\\n",
       "564  6525822194c7402100000281   \n",
       "746  6525c21c94c7402100000337   \n",
       "\n",
       "                                        end_device_ids  \\\n",
       "564  {'device_id': 'eui-a81758fffe0600fb', 'applica...   \n",
       "746  {'device_id': 'eui-a81758fffe0600fb', 'applica...   \n",
       "\n",
       "                            correlation_ids                     received_at  \\\n",
       "564  [gs:uplink:01HCD88M7N8RBZZSG6BBQ54Y4C]  2023-10-10T16:56:01.219309536Z   \n",
       "746  [gs:uplink:01HCDQWF8W8FNG79VWZFWHCBH4]  2023-10-10T21:29:00.141697550Z   \n",
       "\n",
       "                                        uplink_message  \n",
       "564  {'session_key_id': 'AYrQQaTUQCvZXl5oaGOvwQ==',...  \n",
       "746  {'session_key_id': 'AYrQQaTUQCvZXl5oaGOvwQ==',...  "
      ]
     },
     "execution_count": 7,
     "metadata": {},
     "output_type": "execute_result"
    }
   ],
   "source": [
    "df.sample(n=2)"
   ]
  },
  {
   "cell_type": "markdown",
   "metadata": {},
   "source": [
    "We want all of these things to be the same so that machine learning (during development) on every computer will act the same and so that we can compare our performance over various computers and or various models.\n",
    "To do so, we need to set a random seed, this can be any number."
   ]
  },
  {
   "cell_type": "code",
   "execution_count": 8,
   "metadata": {
    "tags": []
   },
   "outputs": [],
   "source": [
    "seed = 20200923"
   ]
  },
  {
   "cell_type": "markdown",
   "metadata": {},
   "source": [
    "Now let us sample twice again, but with the random_state set to a fixed number."
   ]
  },
  {
   "cell_type": "code",
   "execution_count": 9,
   "metadata": {
    "tags": []
   },
   "outputs": [
    {
     "data": {
      "text/html": [
       "<div>\n",
       "<style scoped>\n",
       "    .dataframe tbody tr th:only-of-type {\n",
       "        vertical-align: middle;\n",
       "    }\n",
       "\n",
       "    .dataframe tbody tr th {\n",
       "        vertical-align: top;\n",
       "    }\n",
       "\n",
       "    .dataframe thead th {\n",
       "        text-align: right;\n",
       "    }\n",
       "</style>\n",
       "<table border=\"1\" class=\"dataframe\">\n",
       "  <thead>\n",
       "    <tr style=\"text-align: right;\">\n",
       "      <th></th>\n",
       "      <th>_id</th>\n",
       "      <th>end_device_ids</th>\n",
       "      <th>correlation_ids</th>\n",
       "      <th>received_at</th>\n",
       "      <th>uplink_message</th>\n",
       "    </tr>\n",
       "  </thead>\n",
       "  <tbody>\n",
       "    <tr>\n",
       "      <th>248</th>\n",
       "      <td>65246cc38c7c923b00000943</td>\n",
       "      <td>{'device_id': 'eui-a81758fffe0600fb', 'applica...</td>\n",
       "      <td>[gs:uplink:01HCB4HQ26YQQBKF5T7FHW4QZD]</td>\n",
       "      <td>2023-10-09T21:12:35.863763780Z</td>\n",
       "      <td>{'session_key_id': 'AYrQQaTUQCvZXl5oaGOvwQ==',...</td>\n",
       "    </tr>\n",
       "    <tr>\n",
       "      <th>647</th>\n",
       "      <td>65259f4e94c74021000002d4</td>\n",
       "      <td>{'device_id': 'eui-a81758fffe0600fb', 'applica...</td>\n",
       "      <td>[gs:uplink:01HCDFCJQHR65JEMD2PXR1VHAX]</td>\n",
       "      <td>2023-10-10T19:00:30.784424606Z</td>\n",
       "      <td>{'session_key_id': 'AYrQQaTUQCvZXl5oaGOvwQ==',...</td>\n",
       "    </tr>\n",
       "  </tbody>\n",
       "</table>\n",
       "</div>"
      ],
      "text/plain": [
       "                          _id  \\\n",
       "248  65246cc38c7c923b00000943   \n",
       "647  65259f4e94c74021000002d4   \n",
       "\n",
       "                                        end_device_ids  \\\n",
       "248  {'device_id': 'eui-a81758fffe0600fb', 'applica...   \n",
       "647  {'device_id': 'eui-a81758fffe0600fb', 'applica...   \n",
       "\n",
       "                            correlation_ids                     received_at  \\\n",
       "248  [gs:uplink:01HCB4HQ26YQQBKF5T7FHW4QZD]  2023-10-09T21:12:35.863763780Z   \n",
       "647  [gs:uplink:01HCDFCJQHR65JEMD2PXR1VHAX]  2023-10-10T19:00:30.784424606Z   \n",
       "\n",
       "                                        uplink_message  \n",
       "248  {'session_key_id': 'AYrQQaTUQCvZXl5oaGOvwQ==',...  \n",
       "647  {'session_key_id': 'AYrQQaTUQCvZXl5oaGOvwQ==',...  "
      ]
     },
     "execution_count": 9,
     "metadata": {},
     "output_type": "execute_result"
    }
   ],
   "source": [
    "df.sample(n=2, random_state=seed)"
   ]
  },
  {
   "cell_type": "code",
   "execution_count": 10,
   "metadata": {
    "tags": []
   },
   "outputs": [
    {
     "data": {
      "text/html": [
       "<div>\n",
       "<style scoped>\n",
       "    .dataframe tbody tr th:only-of-type {\n",
       "        vertical-align: middle;\n",
       "    }\n",
       "\n",
       "    .dataframe tbody tr th {\n",
       "        vertical-align: top;\n",
       "    }\n",
       "\n",
       "    .dataframe thead th {\n",
       "        text-align: right;\n",
       "    }\n",
       "</style>\n",
       "<table border=\"1\" class=\"dataframe\">\n",
       "  <thead>\n",
       "    <tr style=\"text-align: right;\">\n",
       "      <th></th>\n",
       "      <th>_id</th>\n",
       "      <th>end_device_ids</th>\n",
       "      <th>correlation_ids</th>\n",
       "      <th>received_at</th>\n",
       "      <th>uplink_message</th>\n",
       "    </tr>\n",
       "  </thead>\n",
       "  <tbody>\n",
       "    <tr>\n",
       "      <th>248</th>\n",
       "      <td>65246cc38c7c923b00000943</td>\n",
       "      <td>{'device_id': 'eui-a81758fffe0600fb', 'applica...</td>\n",
       "      <td>[gs:uplink:01HCB4HQ26YQQBKF5T7FHW4QZD]</td>\n",
       "      <td>2023-10-09T21:12:35.863763780Z</td>\n",
       "      <td>{'session_key_id': 'AYrQQaTUQCvZXl5oaGOvwQ==',...</td>\n",
       "    </tr>\n",
       "    <tr>\n",
       "      <th>647</th>\n",
       "      <td>65259f4e94c74021000002d4</td>\n",
       "      <td>{'device_id': 'eui-a81758fffe0600fb', 'applica...</td>\n",
       "      <td>[gs:uplink:01HCDFCJQHR65JEMD2PXR1VHAX]</td>\n",
       "      <td>2023-10-10T19:00:30.784424606Z</td>\n",
       "      <td>{'session_key_id': 'AYrQQaTUQCvZXl5oaGOvwQ==',...</td>\n",
       "    </tr>\n",
       "  </tbody>\n",
       "</table>\n",
       "</div>"
      ],
      "text/plain": [
       "                          _id  \\\n",
       "248  65246cc38c7c923b00000943   \n",
       "647  65259f4e94c74021000002d4   \n",
       "\n",
       "                                        end_device_ids  \\\n",
       "248  {'device_id': 'eui-a81758fffe0600fb', 'applica...   \n",
       "647  {'device_id': 'eui-a81758fffe0600fb', 'applica...   \n",
       "\n",
       "                            correlation_ids                     received_at  \\\n",
       "248  [gs:uplink:01HCB4HQ26YQQBKF5T7FHW4QZD]  2023-10-09T21:12:35.863763780Z   \n",
       "647  [gs:uplink:01HCDFCJQHR65JEMD2PXR1VHAX]  2023-10-10T19:00:30.784424606Z   \n",
       "\n",
       "                                        uplink_message  \n",
       "248  {'session_key_id': 'AYrQQaTUQCvZXl5oaGOvwQ==',...  \n",
       "647  {'session_key_id': 'AYrQQaTUQCvZXl5oaGOvwQ==',...  "
      ]
     },
     "execution_count": 10,
     "metadata": {},
     "output_type": "execute_result"
    }
   ],
   "source": [
    "df.sample(n=2, random_state=seed)"
   ]
  },
  {
   "cell_type": "markdown",
   "metadata": {},
   "source": [
    "## Reproducible data set for training/development purposes\n",
    "Now we connected to our RestDB data set, we have created a connection that is not reproducible. This data set is growing over time or old records could be cleared.\n",
    "When developing in a (data science) team, we want all developers to have the same data at all time. Therefore, we are going to include our data set in our project.\n",
    "\n",
    "* Go back to your Google Sheet containing the data and choose 'File'->'Download'->'Comma separated values (.csv, current sheet)'\n",
    "* When this csv-file is downloaded, add it to your repository by including it in the same folder as this notebook.\n",
    "* Change the filename below\n",
    "* Run the cells to check whether it works."
   ]
  },
  {
   "cell_type": "code",
   "execution_count": 13,
   "metadata": {
    "tags": []
   },
   "outputs": [],
   "source": [
    "csv_filename = 'ATDS_sensor_data.csv'"
   ]
  },
  {
   "cell_type": "code",
   "execution_count": 14,
   "metadata": {
    "tags": []
   },
   "outputs": [],
   "source": [
    "df = pd.read_csv(csv_filename)"
   ]
  },
  {
   "cell_type": "code",
   "execution_count": 15,
   "metadata": {
    "tags": []
   },
   "outputs": [
    {
     "data": {
      "text/html": [
       "<div>\n",
       "<style scoped>\n",
       "    .dataframe tbody tr th:only-of-type {\n",
       "        vertical-align: middle;\n",
       "    }\n",
       "\n",
       "    .dataframe tbody tr th {\n",
       "        vertical-align: top;\n",
       "    }\n",
       "\n",
       "    .dataframe thead th {\n",
       "        text-align: right;\n",
       "    }\n",
       "</style>\n",
       "<table border=\"1\" class=\"dataframe\">\n",
       "  <thead>\n",
       "    <tr style=\"text-align: right;\">\n",
       "      <th></th>\n",
       "      <th>device_id</th>\n",
       "      <th>received_at</th>\n",
       "      <th>humidity</th>\n",
       "      <th>temperature</th>\n",
       "      <th>vdd</th>\n",
       "      <th>json</th>\n",
       "    </tr>\n",
       "  </thead>\n",
       "  <tbody>\n",
       "    <tr>\n",
       "      <th>0</th>\n",
       "      <td>eui-a81758fffe0600fb</td>\n",
       "      <td>2023-10-09T12:44:07.866418641Z</td>\n",
       "      <td>71</td>\n",
       "      <td>21.9</td>\n",
       "      <td>3619</td>\n",
       "      <td>{\"end_device_ids\":{\"device_id\":\"eui-a81758fffe...</td>\n",
       "    </tr>\n",
       "    <tr>\n",
       "      <th>1</th>\n",
       "      <td>eui-a81758fffe0600fb</td>\n",
       "      <td>2023-10-09T12:45:37.865544177Z</td>\n",
       "      <td>71</td>\n",
       "      <td>21.9</td>\n",
       "      <td>3619</td>\n",
       "      <td>{\"end_device_ids\":{\"device_id\":\"eui-a81758fffe...</td>\n",
       "    </tr>\n",
       "  </tbody>\n",
       "</table>\n",
       "</div>"
      ],
      "text/plain": [
       "              device_id                     received_at  humidity  \\\n",
       "0  eui-a81758fffe0600fb  2023-10-09T12:44:07.866418641Z        71   \n",
       "1  eui-a81758fffe0600fb  2023-10-09T12:45:37.865544177Z        71   \n",
       "\n",
       "   temperature   vdd                                               json  \n",
       "0         21.9  3619  {\"end_device_ids\":{\"device_id\":\"eui-a81758fffe...  \n",
       "1         21.9  3619  {\"end_device_ids\":{\"device_id\":\"eui-a81758fffe...  "
      ]
     },
     "execution_count": 15,
     "metadata": {},
     "output_type": "execute_result"
    }
   ],
   "source": [
    "df.head(2)"
   ]
  },
  {
   "cell_type": "markdown",
   "metadata": {},
   "source": [
    "Now we all have the same data and use the same seed.\n",
    "Every random value assigned and gotten from the set will be the same for all developers.\n",
    "\n",
    "**Important: This random seed should not be used in production as models will not perform as good with a fixed seed.**"
   ]
  },
  {
   "cell_type": "code",
   "execution_count": 16,
   "metadata": {
    "tags": []
   },
   "outputs": [
    {
     "data": {
      "text/html": [
       "<div>\n",
       "<style scoped>\n",
       "    .dataframe tbody tr th:only-of-type {\n",
       "        vertical-align: middle;\n",
       "    }\n",
       "\n",
       "    .dataframe tbody tr th {\n",
       "        vertical-align: top;\n",
       "    }\n",
       "\n",
       "    .dataframe thead th {\n",
       "        text-align: right;\n",
       "    }\n",
       "</style>\n",
       "<table border=\"1\" class=\"dataframe\">\n",
       "  <thead>\n",
       "    <tr style=\"text-align: right;\">\n",
       "      <th></th>\n",
       "      <th>device_id</th>\n",
       "      <th>received_at</th>\n",
       "      <th>humidity</th>\n",
       "      <th>temperature</th>\n",
       "      <th>vdd</th>\n",
       "      <th>json</th>\n",
       "    </tr>\n",
       "  </thead>\n",
       "  <tbody>\n",
       "    <tr>\n",
       "      <th>15803</th>\n",
       "      <td>eui-a81758fffe0600fb</td>\n",
       "      <td>2023-10-26T00:42:34.751473986Z</td>\n",
       "      <td>54</td>\n",
       "      <td>18.7</td>\n",
       "      <td>3619</td>\n",
       "      <td>{\"end_device_ids\":{\"device_id\":\"eui-a81758fffe...</td>\n",
       "    </tr>\n",
       "    <tr>\n",
       "      <th>25196</th>\n",
       "      <td>eui-a81758fffe0600fb</td>\n",
       "      <td>2023-11-04T19:50:39.812784798Z</td>\n",
       "      <td>51</td>\n",
       "      <td>18.4</td>\n",
       "      <td>3617</td>\n",
       "      <td>{\"end_device_ids\":{\"device_id\":\"eui-a81758fffe...</td>\n",
       "    </tr>\n",
       "  </tbody>\n",
       "</table>\n",
       "</div>"
      ],
      "text/plain": [
       "                  device_id                     received_at  humidity  \\\n",
       "15803  eui-a81758fffe0600fb  2023-10-26T00:42:34.751473986Z        54   \n",
       "25196  eui-a81758fffe0600fb  2023-11-04T19:50:39.812784798Z        51   \n",
       "\n",
       "       temperature   vdd                                               json  \n",
       "15803         18.7  3619  {\"end_device_ids\":{\"device_id\":\"eui-a81758fffe...  \n",
       "25196         18.4  3617  {\"end_device_ids\":{\"device_id\":\"eui-a81758fffe...  "
      ]
     },
     "execution_count": 16,
     "metadata": {},
     "output_type": "execute_result"
    }
   ],
   "source": [
    "df.sample(n = 2, random_state=seed)"
   ]
  },
  {
   "cell_type": "code",
   "execution_count": 17,
   "metadata": {
    "tags": []
   },
   "outputs": [
    {
     "data": {
      "text/html": [
       "<div>\n",
       "<style scoped>\n",
       "    .dataframe tbody tr th:only-of-type {\n",
       "        vertical-align: middle;\n",
       "    }\n",
       "\n",
       "    .dataframe tbody tr th {\n",
       "        vertical-align: top;\n",
       "    }\n",
       "\n",
       "    .dataframe thead th {\n",
       "        text-align: right;\n",
       "    }\n",
       "</style>\n",
       "<table border=\"1\" class=\"dataframe\">\n",
       "  <thead>\n",
       "    <tr style=\"text-align: right;\">\n",
       "      <th></th>\n",
       "      <th>device_id</th>\n",
       "      <th>received_at</th>\n",
       "      <th>humidity</th>\n",
       "      <th>temperature</th>\n",
       "      <th>vdd</th>\n",
       "      <th>json</th>\n",
       "    </tr>\n",
       "  </thead>\n",
       "  <tbody>\n",
       "    <tr>\n",
       "      <th>15803</th>\n",
       "      <td>eui-a81758fffe0600fb</td>\n",
       "      <td>2023-10-26T00:42:34.751473986Z</td>\n",
       "      <td>54</td>\n",
       "      <td>18.7</td>\n",
       "      <td>3619</td>\n",
       "      <td>{\"end_device_ids\":{\"device_id\":\"eui-a81758fffe...</td>\n",
       "    </tr>\n",
       "    <tr>\n",
       "      <th>25196</th>\n",
       "      <td>eui-a81758fffe0600fb</td>\n",
       "      <td>2023-11-04T19:50:39.812784798Z</td>\n",
       "      <td>51</td>\n",
       "      <td>18.4</td>\n",
       "      <td>3617</td>\n",
       "      <td>{\"end_device_ids\":{\"device_id\":\"eui-a81758fffe...</td>\n",
       "    </tr>\n",
       "  </tbody>\n",
       "</table>\n",
       "</div>"
      ],
      "text/plain": [
       "                  device_id                     received_at  humidity  \\\n",
       "15803  eui-a81758fffe0600fb  2023-10-26T00:42:34.751473986Z        54   \n",
       "25196  eui-a81758fffe0600fb  2023-11-04T19:50:39.812784798Z        51   \n",
       "\n",
       "       temperature   vdd                                               json  \n",
       "15803         18.7  3619  {\"end_device_ids\":{\"device_id\":\"eui-a81758fffe...  \n",
       "25196         18.4  3617  {\"end_device_ids\":{\"device_id\":\"eui-a81758fffe...  "
      ]
     },
     "execution_count": 17,
     "metadata": {},
     "output_type": "execute_result"
    }
   ],
   "source": [
    "df.sample(n = 2, random_state=seed)"
   ]
  },
  {
   "cell_type": "code",
   "execution_count": null,
   "metadata": {},
   "outputs": [],
   "source": []
  }
 ],
 "metadata": {
  "kernelspec": {
   "display_name": "Python 3 (ipykernel)",
   "language": "python",
   "name": "python3"
  },
  "language_info": {
   "codemirror_mode": {
    "name": "ipython",
    "version": 3
   },
   "file_extension": ".py",
   "mimetype": "text/x-python",
   "name": "python",
   "nbconvert_exporter": "python",
   "pygments_lexer": "ipython3",
   "version": "3.11.4"
  }
 },
 "nbformat": 4,
 "nbformat_minor": 4
}
